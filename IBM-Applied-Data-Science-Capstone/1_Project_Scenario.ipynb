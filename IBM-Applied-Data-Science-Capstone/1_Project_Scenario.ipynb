{
 "cells": [
  {
   "cell_type": "markdown",
   "metadata": {},
   "source": [
    "## Applied Data Science Capstone"
   ]
  },
  {
   "cell_type": "markdown",
   "metadata": {},
   "source": [
    "In this project I apply data science skill to the private space launch company called Space X. First we start our project with collecting data, as much and relevent as possible. I have two resources where I can collect data and after collecting raw data I will apply data wrangling to to improve the quality of data. Then I start exploring the processed data. I will explore some really interesting real-world dataset.\n",
    "\n",
    "I will also apply some SQL to gather some insights. After further insight into the data I apply some basic statistical analysis and data visualization using Python and able to see directly how variables might be related to each other. I will also drill down into finer levels of detail by splitting the into group defined by categorical variables or factors in your data. Then I will build, evaluate, and refine predictive models for discovering more exciting insights. \n",
    "\n",
    "The final task for this capstone project is to create a presentation that will be developed into stories of all your analysis."
   ]
  },
  {
   "cell_type": "markdown",
   "metadata": {},
   "source": [
    "### Project Scenario and Overview"
   ]
  },
  {
   "cell_type": "markdown",
   "metadata": {},
   "source": [
    "The commercial space age is here, companies are making space travel affordable for everyone. **Virgin Galactic** is providing suborbital spaceflights. **Rocket Lab** is a small satellite provider. **Blue Origin** manufactures sub-orbital and orbital reusable rockets. Perhaps the most successful is **SpaceX**. \n",
    "\n",
    "**SpaceX’s accomplishments include:** <br>\n",
    "Sending spacecraft to the International Space Station. Starlink, a satellite internet constellation providing satellite Internet access. Sending manned missions to Space. One reason SpaceX can do this is the rocket launches are relatively inexpensive. SpaceX advertises Falcon 9 rocket launches on its website with a cost of **62 million dollars**; other providers cost upwards of 165 million dollars each, much of the savings is because SpaceX can reuse the first stage. \n",
    "\n",
    "Therefore, if we can determine if the first stage will land, we can determine the cost of a launch. Spaces X’s Falcon 9 launch like regular rockets. To help us understand the scale of the Falcon 9, we are going to use these diagrams from Forest Katsch, at  zlsadesign.com. \n",
    " \n",
    "The payload is enclosed in the fairings. Stage two, or the second stage, helps bring the payload to orbit, but most of the work is done by the first stage. The first stage is shown here. This stage does most of the work and is much larger than the second stage. Here we see the first stage next to a person and several other landmarks. This stage is quite large and expensive. Unlike other rocket providers, SpaceX's Falcon 9 Can recover the first stage. Sometimes the first stage does not land. Sometimes it will crash as shown in this clip. Other times, Space X will sacrifice the first stage due to the mission parameters like payload, orbit, and customer. \n",
    "\n",
    "![img](assets/space_X.jpg)\n",
    "\n",
    "In this capstone, I will take the role of a data scientist working for a new rocket \n",
    "company. Space Y that would like to compete with SpaceX founded by Billionaire industrialist Allon \n",
    "Musk. My job is to determine the price of each launch. I will do this by gathering information about Space X and creating dashboards. I will also determine if SpaceX will reuse the first stage. Instead of using rocket science to determine if the first stage will land successfully, I will train a machine learning model and use public information to predict if SpaceX will reuse the first stage.\n"
   ]
  }
 ],
 "metadata": {
  "language_info": {
   "name": "python"
  }
 },
 "nbformat": 4,
 "nbformat_minor": 2
}
